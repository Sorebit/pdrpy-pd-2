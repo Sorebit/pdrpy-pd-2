{
 "cells": [
  {
   "cell_type": "code",
   "execution_count": null,
   "id": "28b82cda",
   "metadata": {},
   "outputs": [],
   "source": [
    "import enum\n",
    "from pathlib import Path\n"
   ]
  },
  {
   "cell_type": "code",
   "execution_count": null,
   "id": "3a9233aa",
   "metadata": {},
   "outputs": [],
   "source": [
    "class ModelType(str, enum.Enum):\n",
    "    BADGES = 'Badges'\n",
    "    COMMENTS = 'Comments'\n",
    "    POST_HISTORY = 'PostHistory'\n",
    "    POST_LINKS = 'PostLinks'\n",
    "    POSTS = 'Posts'\n",
    "    TAGS = 'Tags'\n",
    "    USERS = 'Users'\n",
    "    VOTES = 'Votes'\n",
    "\n",
    "\n",
    "class ForumType(str, enum.Enum):\n",
    "    BICYCLES = 'bicycles'\n",
    "    CODEGOLF = 'codegolf'\n",
    "    COFFEE = 'coffee'\n",
    "    CRYPTO = 'crypto'\n",
    "    GAMEDEV = 'gamedev'\n",
    "    PETS = 'pets'\n",
    "    UKRAINIAN = 'ukrainian'\n"
   ]
  },
  {
   "cell_type": "code",
   "execution_count": null,
   "id": "8ed19f48",
   "metadata": {},
   "outputs": [],
   "source": [
    "    def read_stackexchange_csv(name, forum_name, forum_sufix='stackexchange.com', base_path='../data'):\n",
    "    file_path = Path(base_path) / f'{forum_name}.{forum_sufix}' / f'{name}.csv'\n",
    "    return pd.read_csv(file_path)\n",
    "\n",
    "\n",
    "def read_stackexchange(model_type, forum_type):\n",
    "    return read_stackexchange_csv(model_type.value, forum_type.value)\n"
   ]
  }
 ],
 "metadata": {
  "kernelspec": {
   "display_name": "Python 3",
   "language": "python",
   "name": "python3"
  },
  "language_info": {
   "codemirror_mode": {
    "name": "ipython",
    "version": 3
   },
   "file_extension": ".py",
   "mimetype": "text/x-python",
   "name": "python",
   "nbconvert_exporter": "python",
   "pygments_lexer": "ipython3",
   "version": "3.9.4"
  }
 },
 "nbformat": 4,
 "nbformat_minor": 5
}
