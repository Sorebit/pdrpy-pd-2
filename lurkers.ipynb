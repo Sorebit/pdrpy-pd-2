{
 "cells": [
  {
   "cell_type": "markdown",
   "id": "burning-luxury",
   "metadata": {},
   "source": [
    "## bicycles\n",
    "\n",
    "- [Tags] 525\n",
    "- [PostLinks] 6,140\n",
    "- [Badges] 80,935\n",
    "- [Users] 40,571\n",
    "- [Votes] 283,664\n",
    "- [Comments] 131,281\n",
    "- [Posts] 56,860\n",
    "- [PostHistory] 146,878\n",
    "\n",
    "## coffee\n",
    "\n",
    "- [Tags] 115\n",
    "- [PostLinks] 602\n",
    "- [Comments] 4,365\n",
    "- [Badges] 10,852\n",
    "- [Votes] 20,663\n",
    "- [Posts] 3,936\n",
    "- [Users] 8,256\n",
    "- [PostHistory] 10,178\n",
    "\n",
    "## ukrainian\n",
    "\n",
    "- [Tags] 120\n",
    "- [PostLinks] 399\n",
    "- [Badges] 6,248\n",
    "- [Users] 3,080\n",
    "- [Comments] 6,954\n",
    "- [Votes] 28,867\n",
    "- [Posts] 5,069\n",
    "- [PostHistory] 16,102"
   ]
  },
  {
   "cell_type": "code",
   "execution_count": 3,
   "id": "honest-breed",
   "metadata": {},
   "outputs": [],
   "source": [
    "import numpy as np\n",
    "import pandas as pd\n",
    "from pathlib import Path\n",
    "import enum\n",
    "import matplotlib.pyplot as plt"
   ]
  },
  {
   "cell_type": "code",
   "execution_count": 5,
   "id": "quiet-advertiser",
   "metadata": {},
   "outputs": [],
   "source": [
    "class ModelType(str, enum.Enum):\n",
    "    BADGES = 'Badges'\n",
    "    COMMENTS = 'Comments'\n",
    "    POST_HISTORY = 'PostHistory'\n",
    "    POST_LINKS = 'PostLinks'\n",
    "    POSTS = 'Posts'\n",
    "    TAGS = 'Tags'\n",
    "    USERS = 'Users'\n",
    "    VOTES = 'Votes'\n",
    "\n",
    "\n",
    "class ForumType(str, enum.Enum):\n",
    "    BICYCLES = 'bicycles'\n",
    "    CODEGOLF = 'codegolf'\n",
    "    COFFEE = 'coffee'\n",
    "    CRYPTO = 'crypto'\n",
    "    GAMEDEV = 'gamedev'\n",
    "    PETS = 'pets'\n",
    "    UKRAINIAN = 'ukrainian'\n",
    "\n",
    "    \n",
    "def read_stackexchange_csv(name, forum_name, forum_sufix='stackexchange.com', base_path='data'):\n",
    "    file_path = Path(base_path) / f'{forum_name}.{forum_sufix}' / f'{name}.csv'\n",
    "    return pd.read_csv(file_path)\n",
    "\n",
    "\n",
    "def read_stackexchange(model_type, forum_type):\n",
    "    return read_stackexchange_csv(model_type.value, forum_type.value)"
   ]
  },
  {
   "cell_type": "markdown",
   "id": "appropriate-dream",
   "metadata": {},
   "source": [
    "## Załadowanie danych"
   ]
  },
  {
   "cell_type": "code",
   "execution_count": 7,
   "id": "divided-knight",
   "metadata": {},
   "outputs": [],
   "source": [
    "bicycles_posts_df = read_stackexchange(ModelType.POSTS, ForumType.BICYCLES)\n",
    "coffee_posts_df = read_stackexchange(ModelType.POSTS, ForumType.COFFEE)\n",
    "ukrainian_posts_df = read_stackexchange(ModelType.POSTS, ForumType.UKRAINIAN)"
   ]
  },
  {
   "cell_type": "markdown",
   "id": "functioning-annex",
   "metadata": {},
   "source": [
    "### "
   ]
  },
  {
   "cell_type": "code",
   "execution_count": 131,
   "id": "photographic-genius",
   "metadata": {},
   "outputs": [],
   "source": [
    "def compare(posts):\n",
    "    # PostTypeId: 1 -> Question, 2 -> Answer\n",
    "    questions = posts.loc[posts.PostTypeId == 1, ['Id', 'CreationDate', 'Title']]\n",
    "    answers = posts.loc[posts.PostTypeId == 2, ['Id', 'ParentId', 'CreationDate']]\n",
    "    \n",
    "    questions['CreationDate_datetime'] = pd.to_datetime(questions['CreationDate'])\n",
    "    answers['CreationDate_datetime'] = pd.to_datetime(answers['CreationDate'])\n",
    "    \n",
    "    df = questions.join(answers.set_index('ParentId'), on = 'Id', \n",
    "                        lsuffix='_question', rsuffix='_answer', how = 'inner')\n",
    "    df['diff_time'] = df['CreationDate_datetime_answer'] - df['CreationDate_datetime_question']\n",
    "    #df['diff_hours']=df['diff_hours']/np.timedelta64(1,'h')\n",
    "    \n",
    "    \n",
    "    # Aggregate diff_time by Id_question\n",
    "    df = df.groupby('Id_question').agg({'diff_time': ['min', 'max']})\n",
    "    df.columns = ['_'.join(col) for col in df.columns.values]\n",
    "    \n",
    "    # Get (min, max) from min and max\n",
    "    return df.agg({'diff_time_min': ['min', 'max'], 'diff_time_max': ['min', 'max']})\n"
   ]
  },
  {
   "cell_type": "code",
   "execution_count": 132,
   "id": "compact-loading",
   "metadata": {},
   "outputs": [
    {
     "data": {
      "text/html": [
       "<div>\n",
       "<style scoped>\n",
       "    .dataframe tbody tr th:only-of-type {\n",
       "        vertical-align: middle;\n",
       "    }\n",
       "\n",
       "    .dataframe tbody tr th {\n",
       "        vertical-align: top;\n",
       "    }\n",
       "\n",
       "    .dataframe thead th {\n",
       "        text-align: right;\n",
       "    }\n",
       "</style>\n",
       "<table border=\"1\" class=\"dataframe\">\n",
       "  <thead>\n",
       "    <tr style=\"text-align: right;\">\n",
       "      <th></th>\n",
       "      <th>diff_time_min</th>\n",
       "      <th>diff_time_max</th>\n",
       "    </tr>\n",
       "  </thead>\n",
       "  <tbody>\n",
       "    <tr>\n",
       "      <th>min</th>\n",
       "      <td>-292 days +20:16:49.880000</td>\n",
       "      <td>0 days 00:00:00</td>\n",
       "    </tr>\n",
       "    <tr>\n",
       "      <th>max</th>\n",
       "      <td>1619 days 12:16:06.473000</td>\n",
       "      <td>3806 days 00:28:05.467000</td>\n",
       "    </tr>\n",
       "  </tbody>\n",
       "</table>\n",
       "</div>"
      ],
      "text/plain": [
       "                 diff_time_min             diff_time_max\n",
       "min -292 days +20:16:49.880000           0 days 00:00:00\n",
       "max  1619 days 12:16:06.473000 3806 days 00:28:05.467000"
      ]
     },
     "execution_count": 132,
     "metadata": {},
     "output_type": "execute_result"
    }
   ],
   "source": [
    "compare(bicycles_posts_df)"
   ]
  },
  {
   "cell_type": "code",
   "execution_count": 133,
   "id": "insured-cricket",
   "metadata": {},
   "outputs": [
    {
     "data": {
      "text/html": [
       "<div>\n",
       "<style scoped>\n",
       "    .dataframe tbody tr th:only-of-type {\n",
       "        vertical-align: middle;\n",
       "    }\n",
       "\n",
       "    .dataframe tbody tr th {\n",
       "        vertical-align: top;\n",
       "    }\n",
       "\n",
       "    .dataframe thead th {\n",
       "        text-align: right;\n",
       "    }\n",
       "</style>\n",
       "<table border=\"1\" class=\"dataframe\">\n",
       "  <thead>\n",
       "    <tr style=\"text-align: right;\">\n",
       "      <th></th>\n",
       "      <th>diff_time_min</th>\n",
       "      <th>diff_time_max</th>\n",
       "    </tr>\n",
       "  </thead>\n",
       "  <tbody>\n",
       "    <tr>\n",
       "      <th>min</th>\n",
       "      <td>0 days 00:00:00</td>\n",
       "      <td>0 days 00:00:00</td>\n",
       "    </tr>\n",
       "    <tr>\n",
       "      <th>max</th>\n",
       "      <td>1679 days 21:41:25.017000</td>\n",
       "      <td>2178 days 04:13:18.530000</td>\n",
       "    </tr>\n",
       "  </tbody>\n",
       "</table>\n",
       "</div>"
      ],
      "text/plain": [
       "                diff_time_min             diff_time_max\n",
       "min           0 days 00:00:00           0 days 00:00:00\n",
       "max 1679 days 21:41:25.017000 2178 days 04:13:18.530000"
      ]
     },
     "execution_count": 133,
     "metadata": {},
     "output_type": "execute_result"
    }
   ],
   "source": [
    "compare(coffee_posts_df)"
   ]
  },
  {
   "cell_type": "code",
   "execution_count": null,
   "id": "falling-diary",
   "metadata": {},
   "outputs": [],
   "source": [
    "(ukrainian_posts_df)"
   ]
  }
 ],
 "metadata": {
  "kernelspec": {
   "display_name": "Python 3",
   "language": "python",
   "name": "python3"
  },
  "language_info": {
   "codemirror_mode": {
    "name": "ipython",
    "version": 3
   },
   "file_extension": ".py",
   "mimetype": "text/x-python",
   "name": "python",
   "nbconvert_exporter": "python",
   "pygments_lexer": "ipython3",
   "version": "3.8.3"
  }
 },
 "nbformat": 4,
 "nbformat_minor": 5
}
